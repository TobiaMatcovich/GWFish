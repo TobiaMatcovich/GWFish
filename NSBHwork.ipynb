{
 "cells": [
  {
   "cell_type": "markdown",
   "metadata": {},
   "source": [
    " # GWFISH NSBH analyses\n",
    " "
   ]
  },
  {
   "cell_type": "code",
   "execution_count": 1,
   "metadata": {},
   "outputs": [
    {
     "name": "stderr",
     "output_type": "stream",
     "text": [
      "/home/tobiazenbook/mambaforge/envs/igwn-py39/lib/python3.9/site-packages/lalsimulation/lalsimulation.py:8: UserWarning: Wswiglal-redir-stdio:\n",
      "\n",
      "SWIGLAL standard output/error redirection is enabled in IPython.\n",
      "This may lead to performance penalties. To disable locally, use:\n",
      "\n",
      "with lal.no_swig_redirect_standard_output_error():\n",
      "    ...\n",
      "\n",
      "To disable globally, use:\n",
      "\n",
      "lal.swig_redirect_standard_output_error(True)\n",
      "\n",
      "Note however that this will likely lead to error messages from\n",
      "LAL functions being either misdirected or lost when called from\n",
      "Jupyter notebooks.\n",
      "\n",
      "To suppress this warning, use:\n",
      "\n",
      "import warnings\n",
      "warnings.filterwarnings(\"ignore\", \"Wswiglal-redir-stdio\")\n",
      "import lal\n",
      "\n",
      "  import lal\n",
      "/home/tobiazenbook/mambaforge/envs/igwn-py39/lib/python3.9/site-packages/pandas/core/computation/expressions.py:21: UserWarning: Pandas requires version '2.8.4' or newer of 'numexpr' (version '2.7.3' currently installed).\n",
      "  from pandas.core.computation.check import NUMEXPR_INSTALLED\n"
     ]
    }
   ],
   "source": [
    "import GWFish.modules as gw\n",
    "\n",
    "from tqdm import tqdm\n",
    "import matplotlib\n",
    "import matplotlib.pyplot as plt\n",
    "import corner\n",
    "import numpy as np\n",
    "import pandas as pd\n",
    "import json\n",
    "import os\n",
    "from astropy.cosmology import Planck18\n",
    "\n",
    "GWFish_path = 'GWFish/'"
   ]
  },
  {
   "cell_type": "code",
   "execution_count": 3,
   "metadata": {},
   "outputs": [],
   "source": [
    "population = 'NSBH' # or 'BBH'\n",
    "\n",
    "# The detector names can be accessed in detectors.yaml file\n",
    "# One can list as many detectors as they want: ['LHO', 'LLO', 'VIR', 'CE1', 'CE2', 'ET']\n",
    "detectors = ['ET']\n",
    "networks = '[[0]]'\n",
    "detectors_ids = detectors\n",
    "networks_ids = json.loads(networks)\n",
    "\n",
    "# The detection_SNR is the minimum SNR for a detection:\n",
    "#   --> The first entry specifies the minimum SNR for a detection in a single detector\n",
    "#   --> The second entry specifies the minimum network SNR for a detection\n",
    "network = gw.detection.Network(detector_ids = detectors, detection_SNR = (0., 8.))\n",
    "\n",
    "ConfigDet = os.path.join(GWFish_path,'detectors.yaml')\n",
    "\n",
    "calculate_errors = True\n",
    "duty_cycle = False\n",
    "\n",
    "#waveform_model = 'IMRPhenomD_NRTidalv2'\n",
    "waveform_model = 'IMRPhenomNSBH'\n",
    "waveform_class = gw.waveforms.LALFD_Waveform"
   ]
  },
  {
   "cell_type": "code",
   "execution_count": 14,
   "metadata": {},
   "outputs": [
    {
     "data": {
      "text/html": [
       "<div>\n",
       "<style scoped>\n",
       "    .dataframe tbody tr th:only-of-type {\n",
       "        vertical-align: middle;\n",
       "    }\n",
       "\n",
       "    .dataframe tbody tr th {\n",
       "        vertical-align: top;\n",
       "    }\n",
       "\n",
       "    .dataframe thead th {\n",
       "        text-align: right;\n",
       "    }\n",
       "</style>\n",
       "<table border=\"1\" class=\"dataframe\">\n",
       "  <thead>\n",
       "    <tr style=\"text-align: right;\">\n",
       "      <th></th>\n",
       "      <th>mass_1</th>\n",
       "      <th>mass_2</th>\n",
       "      <th>redshift</th>\n",
       "      <th>luminosity_distance</th>\n",
       "      <th>theta_jn</th>\n",
       "      <th>ra</th>\n",
       "      <th>dec</th>\n",
       "      <th>psi</th>\n",
       "      <th>phase</th>\n",
       "      <th>geocent_time</th>\n",
       "      <th>a_1</th>\n",
       "      <th>a_2</th>\n",
       "      <th>lambda_1</th>\n",
       "      <th>lambda_2</th>\n",
       "    </tr>\n",
       "  </thead>\n",
       "  <tbody>\n",
       "    <tr>\n",
       "      <th>0</th>\n",
       "      <td>9</td>\n",
       "      <td>1.4</td>\n",
       "      <td>0.0098</td>\n",
       "      <td>43.747554</td>\n",
       "      <td>2.545066</td>\n",
       "      <td>3.44616</td>\n",
       "      <td>-0.408084</td>\n",
       "      <td>0.0</td>\n",
       "      <td>0.0</td>\n",
       "      <td>1.187009e+09</td>\n",
       "      <td>0.3</td>\n",
       "      <td>0.01</td>\n",
       "      <td>1</td>\n",
       "      <td>586.548703</td>\n",
       "    </tr>\n",
       "  </tbody>\n",
       "</table>\n",
       "</div>"
      ],
      "text/plain": [
       "   mass_1  mass_2  redshift  luminosity_distance  theta_jn       ra       dec  \\\n",
       "0       9     1.4    0.0098            43.747554  2.545066  3.44616 -0.408084   \n",
       "\n",
       "   psi  phase  geocent_time  a_1   a_2  lambda_1    lambda_2  \n",
       "0  0.0    0.0  1.187009e+09  0.3  0.01         1  586.548703  "
      ]
     },
     "execution_count": 14,
     "metadata": {},
     "output_type": "execute_result"
    }
   ],
   "source": [
    "z = np.array([0.00980])\n",
    "\n",
    "parameters = {\n",
    "    'mass_1': np.array([9]), \n",
    "    'mass_2': np.array([1.4]), \n",
    "    'redshift': z,\n",
    "    'luminosity_distance': Planck18.luminosity_distance(z).value,\n",
    "    'theta_jn': np.array([2.545065595974997]),\n",
    "    'ra': np.array([3.4461599999999994]),\n",
    "    'dec': np.array([-0.4080839999999999]),\n",
    "    'psi': np.array([0.]),\n",
    "    'phase': np.array([0.]),\n",
    "    'geocent_time': np.array([1187008882.4]),\n",
    "    'a_1':np.array([0.3]), \n",
    "    'a_2':np.array([0.01]), \n",
    "    'lambda_1':np.array([1]), \n",
    "    'lambda_2':np.array([586.5487031450857])}\n",
    "parameters = pd.DataFrame(parameters)\n",
    "parameters"
   ]
  },
  {
   "cell_type": "code",
   "execution_count": 10,
   "metadata": {},
   "outputs": [],
   "source": [
    "# The fisher parameters are the parameters that will be used to calculate the Fisher matrix\n",
    "# and on which we will calculate the errors\n",
    "fisher_parameters = ['mass_1', 'mass_2', 'luminosity_distance', 'theta_jn', 'dec','ra',\n",
    "                     'psi', 'phase', 'geocent_time', 'a_1', 'a_2', 'lambda_1', 'lambda_2']"
   ]
  },
  {
   "cell_type": "code",
   "execution_count": 15,
   "metadata": {},
   "outputs": [
    {
     "name": "stderr",
     "output_type": "stream",
     "text": [
      "  0%|          | 0/1 [00:00<?, ?it/s]"
     ]
    },
    {
     "name": "stderr",
     "output_type": "stream",
     "text": [
      "100%|██████████| 1/1 [00:10<00:00, 10.65s/it]\n"
     ]
    }
   ],
   "source": [
    "detected, network_snr, parameter_errors, sky_localization = gw.fishermatrix.compute_network_errors(\n",
    "        network = network,\n",
    "        parameter_values = parameters,\n",
    "        fisher_parameters=fisher_parameters, \n",
    "        waveform_model = waveform_model\n",
    "        )   \n",
    "        # use_duty_cycle = False, # default is False anyway\n",
    "        # save_matrices = False, # default is False anyway\n",
    "        # save_matrices_path = None, # default is None anyway,\n",
    "                                     # otherwise specify the folder\n",
    "                                     # where to save the Fisher and\n",
    "                                     # corresponding covariance matrices"
   ]
  },
  {
   "cell_type": "code",
   "execution_count": 16,
   "metadata": {},
   "outputs": [
    {
     "name": "stdout",
     "output_type": "stream",
     "text": [
      "The network SNR of the event is  [1317.51169149]\n",
      "The sky localization of the event is  [0.00012858]\n"
     ]
    }
   ],
   "source": [
    "print('The network SNR of the event is ', network_snr)\n",
    "print('The sky localization of the event is ', sky_localization)"
   ]
  },
  {
   "cell_type": "code",
   "execution_count": 17,
   "metadata": {},
   "outputs": [
    {
     "data": {
      "text/plain": [
       "array([1.94381117])"
      ]
     },
     "execution_count": 17,
     "metadata": {},
     "output_type": "execute_result"
    }
   ],
   "source": [
    "# Choose percentile factor of sky localization and pass from rad2 to deg2\n",
    "percentile = 90.\n",
    "sky_localization_90cl = sky_localization * gw.fishermatrix.sky_localization_percentile_factor(percentile)\n",
    "sky_localization_90cl"
   ]
  },
  {
   "cell_type": "code",
   "execution_count": 18,
   "metadata": {},
   "outputs": [
    {
     "name": "stdout",
     "output_type": "stream",
     "text": [
      "The parameter errors of the event are \n"
     ]
    },
    {
     "data": {
      "text/plain": [
       "{'err_mass_1': 0.0004888861803445397,\n",
       " 'err_mass_2': 5.865441006330221e-05,\n",
       " 'err_luminosity_distance': 3.100989158014995,\n",
       " 'err_theta_jn': 0.10881637520168601,\n",
       " 'err_dec': 0.006732232549724901,\n",
       " 'err_ra': 0.006662303226587622,\n",
       " 'err_psi': 0.21996436104755113,\n",
       " 'err_phase': 0.448168113846489,\n",
       " 'err_geocent_time': 0.00021271718258501548,\n",
       " 'err_a_1': 0.013358676229787992,\n",
       " 'err_a_2': 0.1101458686161895,\n",
       " 'err_lambda_1': 1.2745131602293436,\n",
       " 'err_lambda_2': 134.93477862878578}"
      ]
     },
     "execution_count": 18,
     "metadata": {},
     "output_type": "execute_result"
    }
   ],
   "source": [
    "# One can create a dictionary with the parameter errors, the order is the same as the one given in fisher_parameters\n",
    "parameter_errors_dict = {}\n",
    "for i, parameter in enumerate(fisher_parameters):\n",
    "    parameter_errors_dict['err_' + parameter] = np.squeeze(parameter_errors)[i]\n",
    "\n",
    "print('The parameter errors of the event are ')\n",
    "parameter_errors_dict"
   ]
  },
  {
   "cell_type": "code",
   "execution_count": 19,
   "metadata": {},
   "outputs": [],
   "source": [
    "# The waveform model can be accessed through the waveform_class attribute,\n",
    "# which requires the waveform_model and the data_params and the parameters of the event\n",
    "waveform_class = gw.waveforms.LALFD_Waveform\n",
    "data_params = {\n",
    "        'frequencyvector': network.detectors[0].frequencyvector,\n",
    "        'f_ref': 50.\n",
    "    }\n",
    "waveform_obj = waveform_class(waveform_model, parameters.iloc[0], data_params)\n",
    "wave = waveform_obj()\n",
    "t_of_f = waveform_obj.t_of_f\n",
    "\n",
    "# The waveform is then projected onto the detector taking into account the Earth rotation \n",
    "# by passing at each frequency step the time of the waveform at the detector\n",
    "signal = gw.detection.projection(parameters.iloc[0], network.detectors[0], wave, t_of_f)"
   ]
  },
  {
   "cell_type": "code",
   "execution_count": null,
   "metadata": {},
   "outputs": [],
   "source": []
  },
  {
   "cell_type": "code",
   "execution_count": null,
   "metadata": {},
   "outputs": [],
   "source": []
  },
  {
   "cell_type": "code",
   "execution_count": null,
   "metadata": {},
   "outputs": [],
   "source": []
  }
 ],
 "metadata": {
  "kernelspec": {
   "display_name": "igwn-py39",
   "language": "python",
   "name": "python3"
  },
  "language_info": {
   "codemirror_mode": {
    "name": "ipython",
    "version": 3
   },
   "file_extension": ".py",
   "mimetype": "text/x-python",
   "name": "python",
   "nbconvert_exporter": "python",
   "pygments_lexer": "ipython3",
   "version": "3.9.18"
  }
 },
 "nbformat": 4,
 "nbformat_minor": 2
}
